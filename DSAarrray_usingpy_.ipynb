{
  "nbformat": 4,
  "nbformat_minor": 0,
  "metadata": {
    "colab": {
      "provenance": [],
      "authorship_tag": "ABX9TyMaK6f6XhOUMPPcTh7Mbhms",
      "include_colab_link": true
    },
    "kernelspec": {
      "name": "python3",
      "display_name": "Python 3"
    },
    "language_info": {
      "name": "python"
    }
  },
  "cells": [
    {
      "cell_type": "markdown",
      "metadata": {
        "id": "view-in-github",
        "colab_type": "text"
      },
      "source": [
        "<a href=\"https://colab.research.google.com/github/Rajkumar7052/Practice-Coding/blob/main/DSAarrray_usingpy_.ipynb\" target=\"_parent\"><img src=\"https://colab.research.google.com/assets/colab-badge.svg\" alt=\"Open In Colab\"/></a>"
      ]
    },
    {
      "cell_type": "markdown",
      "source": [
        "Operation on array"
      ],
      "metadata": {
        "id": "T3oBnSdpYg0H"
      }
    },
    {
      "cell_type": "code",
      "execution_count": 2,
      "metadata": {
        "colab": {
          "base_uri": "https://localhost:8080/"
        },
        "id": "gS6y9qTRX6g6",
        "outputId": "6521c0da-1640-4ff0-8a16-f3f28f437a1e"
      },
      "outputs": [
        {
          "output_type": "execute_result",
          "data": {
            "text/plain": [
              "1"
            ]
          },
          "metadata": {},
          "execution_count": 2
        }
      ],
      "source": [
        "#SEARCHING (UNSORTED ARRAY) ,lenear search\n",
        "def search_array(num,x):\n",
        "  for i in range(len(num)):\n",
        "    if num[i]==x:\n",
        "      return i\n",
        "  return -1\n",
        "num=[10,5,7,25]\n",
        "x=5\n",
        "search_array(num,x)"
      ]
    },
    {
      "cell_type": "markdown",
      "source": [
        "insert a number at position"
      ],
      "metadata": {
        "id": "afzaTOJEa14k"
      }
    },
    {
      "cell_type": "code",
      "source": [
        "def insert(num,x,cap,n,pos):\n",
        "  if n==cap:\n",
        "    return n\n",
        "  index=pos-1\n",
        "  for i in range(n-1, index-1, -1):\n",
        "    num[i+1]=num[i]\n",
        "  num[index]=x\n",
        "  return (n+1)\n",
        "num=[5,10,20    ]\n",
        "n=len(num)\n",
        "pos=2\n",
        "x=7\n",
        "insert(num,n,pos,x,cap)"
      ],
      "metadata": {
        "id": "5RXlwBxibG3f"
      },
      "execution_count": null,
      "outputs": []
    },
    {
      "cell_type": "code",
      "source": [
        "# insert a number in a position \n",
        "num=[5,10,20]\n",
        "x=7\n",
        "pos=2\n",
        "num.insert(pos,x)\n",
        "print(num)"
      ],
      "metadata": {
        "colab": {
          "base_uri": "https://localhost:8080/"
        },
        "id": "ZIVAoYMbhvHo",
        "outputId": "a30e4c46-32d6-4ce3-93e0-2b68bb8af9d8"
      },
      "execution_count": 5,
      "outputs": [
        {
          "output_type": "stream",
          "name": "stdout",
          "text": [
            "[5, 10, 7, 20]\n"
          ]
        }
      ]
    },
    {
      "cell_type": "code",
      "source": [
        "def deletion(num,x):\n",
        "  for i in range(len(num)):\n",
        "    if num[i]==x:\n",
        "      break\n",
        "  if i==len(num):\n",
        "    return len(num)\n",
        "  for j in range(i,len(num)-1,1):\n",
        "    num[j]=num[j+1]\n",
        "  return (len(num)-1)\n",
        "num=[3,8,12,5,6]\n",
        "x=12"
      ],
      "metadata": {
        "id": "Dyg1_8RYiVNO"
      },
      "execution_count": 7,
      "outputs": []
    },
    {
      "cell_type": "code",
      "source": [
        "# how to delete element in array using index value  \n",
        "# del keyword taking index value\n",
        "num=[3,8,12,5,6]\n",
        "x=12\n",
        "del num[2]\n",
        "print(num)"
      ],
      "metadata": {
        "colab": {
          "base_uri": "https://localhost:8080/"
        },
        "id": "3ADIE0zakLnN",
        "outputId": "c84186be-c622-4de1-ae90-ef8f2f1806fb"
      },
      "execution_count": 10,
      "outputs": [
        {
          "output_type": "stream",
          "name": "stdout",
          "text": [
            "[3, 8, 5, 6]\n"
          ]
        }
      ]
    },
    {
      "cell_type": "code",
      "source": [
        "# remove keyword taking the  element which you want to delete\n",
        "num=[3,8,12,5,6]\n",
        "num.remove(6)\n",
        "print(num)"
      ],
      "metadata": {
        "colab": {
          "base_uri": "https://localhost:8080/"
        },
        "id": "np3O-Z3Kk0Yy",
        "outputId": "7bea4af7-0672-4a92-f5da-8eb7e53dbef6"
      },
      "execution_count": 14,
      "outputs": [
        {
          "output_type": "stream",
          "name": "stdout",
          "text": [
            "[3, 8, 12, 5]\n"
          ]
        }
      ]
    }
  ]
}